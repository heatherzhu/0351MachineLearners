{
 "cells": [
  {
   "cell_type": "code",
   "execution_count": 131,
   "metadata": {},
   "outputs": [],
   "source": [
    "import pandas as pd\n",
    "import numpy as np\n",
    "import nltk\n",
    "import re\n",
    "from textblob.classifiers import NaiveBayesClassifier\n",
    "from sklearn.neighbors import KNeighborsClassifier\n",
    "from sklearn import svm\n",
    "from sklearn.ensemble import RandomForestClassifier\n",
    "\n",
    "\n",
    "data = pd.read_csv(\"data.csv\")\n",
    "data = np.array(data)\n",
    "\n",
    "labels = data[:,1]\n",
    "data = data[:,3]\n",
    "\n",
    "def filtering(text, stopwords = nltk.corpus.stopwords.words(\"english\")):\n",
    "    text = str(text)\n",
    "    text = re.sub(r\"http\\S+\", \"\", text)\n",
    "    text = re.sub(r\"@\\S+\", \"\", text)\n",
    "    text = re.sub(r\"WWW\\S+\", \"\", text)\n",
    "    \n",
    "    text = text.split(\" \")\n",
    "    \n",
    "    filtered = \"\"\n",
    "    for i in range(len(text)):\n",
    "        if not (text[i] == '' or text[i] in stopwords):\n",
    "            filtered = (filtered + \" \" + text[i])\n",
    "            \n",
    "    return str(filtered)\n",
    "\n",
    "\n",
    "for i in range(len(data)):\n",
    "    data[i] = filtering(data[i])\n",
    "\n",
    "data = np.reshape(data, (len(data),1))\n",
    "labels = np.reshape(labels, (len(labels),1))\n",
    "train = np.concatenate((data, labels),axis=1)\n",
    "\n",
    "train = train[:4000]\n"
   ]
  },
  {
   "cell_type": "code",
   "execution_count": 132,
   "metadata": {},
   "outputs": [],
   "source": [
    "classifier = NaiveBayesClassifier(train) "
   ]
  },
  {
   "cell_type": "code",
   "execution_count": 139,
   "metadata": {
    "scrolled": true
   },
   "outputs": [
    {
     "data": {
      "text/plain": [
       "'worry'"
      ]
     },
     "execution_count": 139,
     "metadata": {},
     "output_type": "execute_result"
    }
   ],
   "source": [
    "classifier.classify(\"\")"
   ]
  },
  {
   "cell_type": "code",
   "execution_count": null,
   "metadata": {},
   "outputs": [],
   "source": [
    "data2 = pd.read_csv(\"Dataset2.csv\")\n",
    "data2 = np.array(data2)\n"
   ]
  },
  {
   "cell_type": "code",
   "execution_count": null,
   "metadata": {},
   "outputs": [],
   "source": []
  }
 ],
 "metadata": {
  "kernelspec": {
   "display_name": "Python 3",
   "language": "python",
   "name": "python3"
  },
  "language_info": {
   "codemirror_mode": {
    "name": "ipython",
    "version": 3
   },
   "file_extension": ".py",
   "mimetype": "text/x-python",
   "name": "python",
   "nbconvert_exporter": "python",
   "pygments_lexer": "ipython3",
   "version": "3.8.5"
  }
 },
 "nbformat": 4,
 "nbformat_minor": 4
}
